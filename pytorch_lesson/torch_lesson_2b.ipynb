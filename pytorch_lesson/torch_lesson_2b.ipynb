{
 "cells": [
  {
   "cell_type": "code",
   "execution_count": 1,
   "metadata": {},
   "outputs": [],
   "source": [
    "# 本章で使うモジュールのインポート\n",
    "from torch import utils\n",
    "from torchvision import datasets\n",
    "import torchvision.transforms as transforms\n",
    "\n",
    "import torch\n",
    "from torch import nn, optim\n",
    "from torch.nn import functional as F"
   ]
  },
  {
   "cell_type": "code",
   "execution_count": 2,
   "metadata": {},
   "outputs": [],
   "source": [
    "trainset = datasets.MNIST(root='./data', train=True, download=True, transform=transforms.ToTensor())  # 学習用データセット\n",
    "train_loader = utils.data.DataLoader(trainset, batch_size=100, shuffle=True, num_workers=2)  # ミニバッチごとにデータを纏める(学習時にはshuffle=True)\n",
    "\n",
    "testset = datasets.MNIST(root='./data', train=False, download=True, transform=transforms.ToTensor())  # 検証用データセット\n",
    "test_loader = utils.data.DataLoader(testset, batch_size=100, shuffle=False, num_workers=2)  # ミニバッチごとにデータを纏める(学習時にはshuffle=False)"
   ]
  },
  {
   "cell_type": "code",
   "execution_count": 6,
   "metadata": {},
   "outputs": [],
   "source": [
    "class MlpNet(nn.Module):\n",
    "    def __init__(self):\n",
    "        super().__init__()\n",
    "        self.fc1 = nn.Linear(784, 512)\n",
    "        self.fc2 = nn.Linear(512, 10)\n",
    "        self.criterion = nn.MSELoss()\n",
    "        self.optimizer = optim.Adam(self.parameters())\n",
    "\n",
    "    def forward(self, x):\n",
    "        x = self.fc1(x)\n",
    "        x = F.relu(x)\n",
    "        x = self.fc2(x)\n",
    "        return x"
   ]
  },
  {
   "cell_type": "code",
   "execution_count": 7,
   "metadata": {},
   "outputs": [],
   "source": [
    "def train(model, train_loader):\n",
    "    model.train()\n",
    "    \n",
    "    total_correct = 0\n",
    "    total_loss = 0\n",
    "    total_data_len = 0    \n",
    "    \n",
    "    for batch_imgs, batch_labels in train_loader:\n",
    "        # Flatten the batch of images\n",
    "        batch_imgs = batch_imgs.reshape(-1, 28*28*1)\n",
    "        labels = torch.eye(10)[batch_labels]\n",
    "        \n",
    "        # Zero the parameter gradients\n",
    "        model.optimizer.zero_grad()\n",
    "        # Forward pass\n",
    "        outputs = model(batch_imgs)\n",
    "        # Compute the loss\n",
    "        loss = model.criterion(outputs, labels)\n",
    "        # Backward pass and optimize\n",
    "        loss.backward()\n",
    "        model.optimizer.step()\n",
    "        \n",
    "        _, pred_labels = torch.max(outputs, axis=1)\n",
    "        batch_size = len(batch_labels)\n",
    "        for i in range(batch_size):\n",
    "            total_data_len += 1\n",
    "            if pred_labels[i] == batch_labels[i]:\n",
    "                total_correct += 1\n",
    "        total_loss += loss.item()\n",
    "        \n",
    "    accuracy = total_correct / total_data_len * 100\n",
    "    loss = total_loss / total_data_len\n",
    "    \n",
    "    return accuracy, loss\n",
    "        "
   ]
  },
  {
   "cell_type": "code",
   "execution_count": 8,
   "metadata": {},
   "outputs": [
    {
     "name": "stdout",
     "output_type": "stream",
     "text": [
      "accracy=94.58166666666666, loss=0.00015825869853142648\n"
     ]
    }
   ],
   "source": [
    "model = MlpNet()\n",
    "accracy, loss = train(model, train_loader)\n",
    "print(f\"{accracy=}, {loss=}\")"
   ]
  },
  {
   "cell_type": "code",
   "execution_count": 11,
   "metadata": {},
   "outputs": [],
   "source": [
    "class MlpNet2(nn.Module):\n",
    "    def __init__(self):\n",
    "        super().__init__()\n",
    "        self.fc1 = nn.Linear(784, 256)\n",
    "        self.fc2 = nn.Linear(256, 10)\n",
    "        self.criterion = nn.MSELoss()\n",
    "        self.optimizer = optim.Adam(self.parameters(), lr=0.01)\n",
    "        \n",
    "    def forward(self, x):\n",
    "        x = self.fc1(x)\n",
    "        x = F.relu(x)\n",
    "        x = self.fc2(x)\n",
    "        return x"
   ]
  },
  {
   "cell_type": "code",
   "execution_count": 12,
   "metadata": {},
   "outputs": [
    {
     "name": "stdout",
     "output_type": "stream",
     "text": [
      "accracy=84.23166666666667, loss=0.0003574816721336295\n"
     ]
    }
   ],
   "source": [
    "model2 = MlpNet2()\n",
    "accracy, loss = train(model2, train_loader)\n",
    "print(f\"{accracy=}, {loss=}\")"
   ]
  },
  {
   "cell_type": "code",
   "execution_count": null,
   "metadata": {},
   "outputs": [],
   "source": []
  }
 ],
 "metadata": {
  "kernelspec": {
   "display_name": ".venv",
   "language": "python",
   "name": "python3"
  },
  "language_info": {
   "codemirror_mode": {
    "name": "ipython",
    "version": 3
   },
   "file_extension": ".py",
   "mimetype": "text/x-python",
   "name": "python",
   "nbconvert_exporter": "python",
   "pygments_lexer": "ipython3",
   "version": "3.11.5"
  }
 },
 "nbformat": 4,
 "nbformat_minor": 2
}
